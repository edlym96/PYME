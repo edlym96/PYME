{
 "cells": [
  {
   "cell_type": "markdown",
   "metadata": {
    "colab_type": "text",
    "id": "tx09XG51YQk0"
   },
   "source": [
    "# Content\n",
    "\n",
    "####  [Introduction to Python](#intro)</li>\n",
    "####  [Variables and Data Types](#data)</li>\n",
    "####  [Lists](#lists)</li>\n",
    "####  [Conditional Statements](#conditional)</li>\n",
    "####  [For Loops](#for)</li>\n",
    "####  [Dictionaries](#dict)</li>\n",
    "####  [While Loops](#while)</li>\n",
    "####  [Functions](#function)</li>\n",
    "####  [Exercises](#exercise)</li>\n",
    "####  [Classes](#classes)</li>\n",
    "\n"
   ]
  },
  {
   "cell_type": "markdown",
   "metadata": {
    "colab_type": "text",
    "id": "oXu2898lys_c"
   },
   "source": [
    "# <a class=\"anchor\" name=\"intro\"></a> Introduction to Python \n",
    "\n",
    "In this short crash course we will learn to code in Python programming language, specifically we will use Python 3, while searching on the internet you may sometime stumble upon Python 2.7. There are a few syntactic differences you will learn along the way.\n",
    "\n",
    "### Advantages\n",
    "\n",
    "* General-purpose language, used in web developement as well as high performance computing\n",
    "* It is an \"interpreted\" programming language, i.e. there is no need to compile your code\n",
    "* Extensive choice of libraries to deal with most complicated problems, especially for data science and machine learning\n",
    "* Has slightly steep learning curve, is easy to read and write\n",
    "* Very well documented, and widely used ([docs.python.org](http://docs.python.org) or check Stack Overflow)\n",
    "* Dynamically-typed - it is not necessary to manually define the types of variables (in most cases)\n",
    "\n",
    "### Disadvantages\n",
    "\n",
    "* Dynamically-typed - it is not necessary to manually define the types of variables - this can cause confusion. It is good practice to leave comments with description of the input for every function\n",
    "* Is slower than other compiled languages, this can be rectified by using libraries that are pre-combiled in other programming languages \n",
    "\n",
    "\n",
    "### Plan for today\n",
    "1. Basics: variables, conditional statements, for/while cycles, functions \n",
    "2. Pythonic basics: list comprehension\n",
    "3. Problem solving\n",
    "\n",
    "### How to learn Python?\n",
    "\n",
    "* It is a language, the only way to learn it is to speak it. *Don't be afraid, make mistakes, and ask questions.*\n",
    "* *Practice makes perfect*. Initially you will be forgetting the commands, the more you practice the sooner you will remember the syntax.\n",
    "* If you don't understand something, first compose the question properly, think about it, and if you can't think of a solution ask someone!\n",
    "* Before you execute any cell, stop and try to predict what it will do! Ideally write your prediction on a piece of paper!\n",
    "* Experiment! Change the code in the cells, try various test cases to understand how the code behaves."
   ]
  },
  {
   "cell_type": "markdown",
   "metadata": {
    "colab_type": "text",
    "id": "K5SPq-zSys_j"
   },
   "source": [
    "# <a class=\"anchor\" name=\"var\"></a>Variables and Data Types"
   ]
  },
  {
   "cell_type": "markdown",
   "metadata": {
    "colab_type": "text",
    "id": "R0uzJ02Mys_o"
   },
   "source": [
    "Variables are \"black boxes\" used to store values. Each variable is of a specific type, the types define the operations that can be applied to the variables and their response to them. The most common variables are:\n",
    " - *Strings* - A \"string\" of characters\n",
    " - *Integers* - Whole numbers\n",
    " - *Floating-point values* - Decimal numbers\n",
    " - *Boolean* - Binary logic (True / False)\n",
    " "
   ]
  },
  {
   "cell_type": "code",
   "execution_count": 0,
   "metadata": {
    "colab": {},
    "colab_type": "code",
    "id": "5hjyJF7qys_s"
   },
   "outputs": [],
   "source": [
    "# This is a comment, text following a hashtag is not interpreted as code.\n",
    "\"\"\"This is also a comment, it is a string, and can span multiple lines.\n",
    "Comments aid understanding of the code, and make it legible.\"\"\""
   ]
  },
  {
   "cell_type": "code",
   "execution_count": 0,
   "metadata": {
    "colab": {},
    "colab_type": "code",
    "id": "69iBV3nPys_3"
   },
   "outputs": [],
   "source": [
    "# To execute the code in a cell, press ctrl-shift\n",
    "a = 5  # the variable a is assigned the value 5\n",
    "type(a)  # the type() function displays the variable type of the argument in the brackets"
   ]
  },
  {
   "cell_type": "markdown",
   "metadata": {
    "colab_type": "text",
    "id": "BjAilqYAys__"
   },
   "source": [
    "Now run the following code without any comments and see the difference:"
   ]
  },
  {
   "cell_type": "code",
   "execution_count": 0,
   "metadata": {
    "colab": {},
    "colab_type": "code",
    "id": "DIbpyry6ytAD"
   },
   "outputs": [],
   "source": [
    "a = 5  \n",
    "type(a)"
   ]
  },
  {
   "cell_type": "code",
   "execution_count": 0,
   "metadata": {
    "colab": {},
    "colab_type": "code",
    "id": "n9V5K04UytAJ"
   },
   "outputs": [],
   "source": [
    "# python automatically guesses the variable type of your input, can you google what this variable type stands for?\n",
    "b = 0.299\n",
    "type(b)"
   ]
  },
  {
   "cell_type": "markdown",
   "metadata": {
    "colab_type": "text",
    "id": "ERLdW1OwytAQ"
   },
   "source": [
    "In order to print out the value of a variable or a calculation, you can use the function print()"
   ]
  },
  {
   "cell_type": "code",
   "execution_count": 0,
   "metadata": {
    "colab": {},
    "colab_type": "code",
    "id": "nEzFvIjgytAS"
   },
   "outputs": [],
   "source": [
    "print(a) # don't forget the brackets ()!\n",
    "print(a+15)"
   ]
  },
  {
   "cell_type": "markdown",
   "metadata": {
    "colab_type": "text",
    "id": "I7EGrWPkytAW"
   },
   "source": [
    "Guess the results of the following operations, write them down before running the cell!"
   ]
  },
  {
   "cell_type": "code",
   "execution_count": 0,
   "metadata": {
    "colab": {},
    "colab_type": "code",
    "id": "71xmcVtLytAY"
   },
   "outputs": [],
   "source": [
    "print(a/2)\n",
    "print(a//2) # // signifies whole number division\n",
    "print(a%2)  # \"modulo operator\" % is the remainder after division"
   ]
  },
  {
   "cell_type": "markdown",
   "metadata": {
    "colab_type": "text",
    "collapsed": true,
    "id": "x09KPyb1ytAd"
   },
   "source": [
    "Write a code to print the sum of the variable `a` and `b`:"
   ]
  },
  {
   "cell_type": "code",
   "execution_count": 0,
   "metadata": {
    "colab": {},
    "colab_type": "code",
    "id": "7Y48TaCTytAe"
   },
   "outputs": [],
   "source": [
    "# CODE HERE"
   ]
  },
  {
   "cell_type": "markdown",
   "metadata": {
    "colab_type": "text",
    "collapsed": true,
    "id": "Z93CuafdytAh"
   },
   "source": [
    "Python can also work as a very powerful calculator, what is 99 to the power of 99? (Hint: powers are denoted by ** in Python)"
   ]
  },
  {
   "cell_type": "code",
   "execution_count": 0,
   "metadata": {
    "colab": {},
    "colab_type": "code",
    "id": "gXyUWiEiytAi"
   },
   "outputs": [],
   "source": [
    "# CODE HERE"
   ]
  },
  {
   "cell_type": "markdown",
   "metadata": {
    "colab_type": "text",
    "id": "V2SNEu4KytAl"
   },
   "source": [
    "Create a new variable and print out its type:"
   ]
  },
  {
   "cell_type": "code",
   "execution_count": 0,
   "metadata": {
    "colab": {},
    "colab_type": "code",
    "id": "9lBq_8nfytAn"
   },
   "outputs": [],
   "source": [
    "# CODE HERE"
   ]
  },
  {
   "cell_type": "markdown",
   "metadata": {
    "colab_type": "text",
    "id": "gaWf2s_MytAq"
   },
   "source": [
    "It is possible to add different types in Python, the resulting type is chosen automomatically. (broadcasting)"
   ]
  },
  {
   "cell_type": "code",
   "execution_count": 0,
   "metadata": {
    "colab": {},
    "colab_type": "code",
    "id": "ow-ItUo6ytAr",
    "outputId": "e7a779da-eb14-4e38-a64a-a6c6a3ec5caf",
    "scrolled": true
   },
   "outputs": [
    {
     "name": "stdout",
     "output_type": "stream",
     "text": [
      "8.5\n",
      "5.5\n"
     ]
    },
    {
     "ename": "TypeError",
     "evalue": "must be str, not int",
     "output_type": "error",
     "traceback": [
      "\u001b[1;31m---------------------------------------------------------------------------\u001b[0m",
      "\u001b[1;31mTypeError\u001b[0m                                 Traceback (most recent call last)",
      "\u001b[1;32m<ipython-input-10-4e4c5c2e914f>\u001b[0m in \u001b[0;36m<module>\u001b[1;34m()\u001b[0m\n\u001b[0;32m      6\u001b[0m \u001b[0mprint\u001b[0m\u001b[1;33m(\u001b[0m\u001b[0mtype2\u001b[0m \u001b[1;33m+\u001b[0m \u001b[0mtype3\u001b[0m\u001b[1;33m)\u001b[0m\u001b[1;33m\u001b[0m\u001b[0m\n\u001b[0;32m      7\u001b[0m \u001b[0mprint\u001b[0m\u001b[1;33m(\u001b[0m\u001b[0mtype3\u001b[0m \u001b[1;33m+\u001b[0m \u001b[0mtype4\u001b[0m\u001b[1;33m)\u001b[0m\u001b[1;33m\u001b[0m\u001b[0m\n\u001b[1;32m----> 8\u001b[1;33m \u001b[0mprint\u001b[0m\u001b[1;33m(\u001b[0m\u001b[0mtype1\u001b[0m \u001b[1;33m+\u001b[0m \u001b[0mtype2\u001b[0m\u001b[1;33m)\u001b[0m\u001b[1;33m\u001b[0m\u001b[0m\n\u001b[0m",
      "\u001b[1;31mTypeError\u001b[0m: must be str, not int"
     ]
    }
   ],
   "source": [
    "type1 = 'str'   # string\n",
    "type2 = 4       # int\n",
    "type3 = 4.5     # float\n",
    "type4 = True    # bool (logic value True / False)\n",
    "\n",
    "print(type2 + type3)\n",
    "print(type3 + type4)\n",
    "print(type1 + type2)"
   ]
  },
  {
   "cell_type": "markdown",
   "metadata": {
    "colab_type": "text",
    "collapsed": true,
    "id": "J1Kw70gpytAu"
   },
   "source": [
    "**Some types cannot be added together as you can see above! Error messages are a useful feature that allow you to find bugs in your code. Also notice that when adding a float and an int, the result is chosen to be a float.**"
   ]
  },
  {
   "cell_type": "markdown",
   "metadata": {
    "colab_type": "text",
    "id": "r_8UBDGdytAv"
   },
   "source": [
    "## Strings"
   ]
  },
  {
   "cell_type": "markdown",
   "metadata": {
    "colab_type": "text",
    "id": "AMBfZs0tytAx"
   },
   "source": [
    "String is a data type used to represent text in Python:"
   ]
  },
  {
   "cell_type": "code",
   "execution_count": 0,
   "metadata": {
    "colab": {},
    "colab_type": "code",
    "id": "ayjgapmEytAx"
   },
   "outputs": [],
   "source": [
    "c = \"Python Workshop by YME\"\n",
    "type(c)"
   ]
  },
  {
   "cell_type": "markdown",
   "metadata": {
    "colab_type": "text",
    "id": "AmaDu10EytA2"
   },
   "source": [
    "There is an arithmetic associated to the string data type, see how a string behaves under the following operands:"
   ]
  },
  {
   "cell_type": "code",
   "execution_count": 0,
   "metadata": {
    "colab": {},
    "colab_type": "code",
    "id": "e3MAURfOytA2"
   },
   "outputs": [],
   "source": [
    "hello = \"Hello\"\n",
    "space = \" \"\n",
    "world = \"World!\"\n",
    "print(hello + space + world)\n",
    "print((hello + space)*2 + world)\n"
   ]
  },
  {
   "cell_type": "markdown",
   "metadata": {
    "colab_type": "text",
    "id": "M-QB2q5IytA6"
   },
   "source": [
    "Notice that the sign \"+\" concatenates strings, but adds numbers when applied to `int`s or `float`s. An operator with different operations for different types is called an \"overloaded operator\". <br><br>\n",
    "It is possible to manually change the data type of a variable, for example strings to integers or floating-point numbers."
   ]
  },
  {
   "cell_type": "code",
   "execution_count": 0,
   "metadata": {
    "colab": {},
    "colab_type": "code",
    "id": "gseYgE4uytA7"
   },
   "outputs": [],
   "source": [
    "s = \"123\"\n",
    "si = int(s) # string s converted to an integer\n",
    "print(si)\n",
    "sf = float(s) # string s converted to a floating point number\n",
    "print(sf)"
   ]
  },
  {
   "cell_type": "markdown",
   "metadata": {
    "colab_type": "text",
    "id": "c25_KoGNytA-"
   },
   "source": [
    "... or vice-versa:"
   ]
  },
  {
   "cell_type": "code",
   "execution_count": 0,
   "metadata": {
    "colab": {},
    "colab_type": "code",
    "id": "NSwvC4X2ytA_"
   },
   "outputs": [],
   "source": [
    "d = 123\n",
    "ds = str(d)\n",
    "print(ds + \"_\" + \"s\")"
   ]
  },
  {
   "cell_type": "markdown",
   "metadata": {
    "colab_type": "text",
    "id": "vmgTV-wfytBE"
   },
   "source": [
    "Create a new string variable \"2019\", convert it to an integer, and add the result to the float number number = 5.7"
   ]
  },
  {
   "cell_type": "code",
   "execution_count": 0,
   "metadata": {
    "colab": {},
    "colab_type": "code",
    "id": "OXg5uV0SytBF"
   },
   "outputs": [],
   "source": [
    "# CODE HERE"
   ]
  },
  {
   "cell_type": "markdown",
   "metadata": {
    "colab_type": "text",
    "id": "P5ffVwZ4ytBH"
   },
   "source": [
    "Finally, strings can be split into lists!"
   ]
  },
  {
   "cell_type": "code",
   "execution_count": 0,
   "metadata": {
    "colab": {},
    "colab_type": "code",
    "id": "qdbkPdTIytBJ"
   },
   "outputs": [],
   "source": [
    "s = \"123\"\n",
    "print(len(s))   # How long is this string?\n",
    "list(s)"
   ]
  },
  {
   "cell_type": "markdown",
   "metadata": {
    "colab_type": "text",
    "id": "702b-7R9ytBM"
   },
   "source": [
    "# <a class=\"anchor\" name=\"lists\"></a>Lists\n",
    "Lists (or arrays) are mutable sequences of elements, i.e. once created, the separate elements can be changed. Lists can be created in the following way `a = [1,2,3]`\n"
   ]
  },
  {
   "cell_type": "code",
   "execution_count": 0,
   "metadata": {
    "colab": {},
    "colab_type": "code",
    "id": "Ep_znahsytBM"
   },
   "outputs": [],
   "source": [
    "a = [1, 2, 3]\n",
    "print(\"Printing list a:\")\n",
    "print(a) \n",
    "b = [2, 5]\n",
    "c = a + b        # Lists can be added together, this appends list b to list a!\n",
    "print(\"Printing list c:\")\n",
    "print(c)"
   ]
  },
  {
   "cell_type": "markdown",
   "metadata": {
    "colab_type": "text",
    "id": "gAikpIxhytBQ"
   },
   "source": [
    "Try if lists can be subtracted or multiplied!"
   ]
  },
  {
   "cell_type": "code",
   "execution_count": 0,
   "metadata": {
    "colab": {},
    "colab_type": "code",
    "id": "dBqm9EgMytBR"
   },
   "outputs": [],
   "source": [
    "# CODE HERE"
   ]
  },
  {
   "cell_type": "markdown",
   "metadata": {
    "colab_type": "text",
    "id": "6N3jtlHQytBU"
   },
   "source": [
    "Elements in a list can be accessed separately, each element has an associated index starting from 0"
   ]
  },
  {
   "cell_type": "code",
   "execution_count": 0,
   "metadata": {
    "colab": {},
    "colab_type": "code",
    "id": "S3wfzy1oytBV"
   },
   "outputs": [],
   "source": [
    "print(a[0])   # first element is numbered by 0, not 1!\n",
    "print(a[2])   # third element of the list\n",
    "print(a[-1])  # last element of the list\n",
    "a[0] = 5\n",
    "print(a)      # we have modified the first element"
   ]
  },
  {
   "cell_type": "markdown",
   "metadata": {
    "colab_type": "text",
    "id": "imBwfA-8ytBY"
   },
   "source": [
    "Write a code to access the 10th element of the list `a`:"
   ]
  },
  {
   "cell_type": "code",
   "execution_count": 0,
   "metadata": {
    "colab": {},
    "colab_type": "code",
    "id": "fn-C6fDtytBZ"
   },
   "outputs": [],
   "source": [
    "# CODE HERE"
   ]
  },
  {
   "cell_type": "markdown",
   "metadata": {
    "colab_type": "text",
    "collapsed": true,
    "id": "PswJ3ndxytBc"
   },
   "source": [
    "Can you use your python knowledge of lists and strings to find the 10th character in the sentence below?\n",
    "\n",
    "`s = \"This is a string with an exciting 10th character!\"`"
   ]
  },
  {
   "cell_type": "code",
   "execution_count": 0,
   "metadata": {
    "colab": {},
    "colab_type": "code",
    "id": "wXGfbsNZytBe"
   },
   "outputs": [],
   "source": [
    "# CODE HERE"
   ]
  },
  {
   "cell_type": "markdown",
   "metadata": {
    "colab_type": "text",
    "id": "WzYdiIUcytBi"
   },
   "source": [
    "Below you can see some handy functions that can be perfomed on a list:"
   ]
  },
  {
   "cell_type": "code",
   "execution_count": 0,
   "metadata": {
    "colab": {},
    "colab_type": "code",
    "id": "qXTGj0IsytBj"
   },
   "outputs": [],
   "source": [
    "# length of a list\n",
    "print(len(a))\n",
    "# sum of all list elements\n",
    "sum(a)\n",
    "print(sum(a))\n",
    "# adding an element to the end of the list\n",
    "a.append(10)\n",
    "print(a)"
   ]
  },
  {
   "cell_type": "markdown",
   "metadata": {
    "colab_type": "text",
    "id": "Fgq54YXlytBl"
   },
   "source": [
    "Especially useful is the sort() function:"
   ]
  },
  {
   "cell_type": "code",
   "execution_count": 0,
   "metadata": {
    "colab": {
     "base_uri": "https://localhost:8080/",
     "height": 117
    },
    "colab_type": "code",
    "executionInfo": {
     "elapsed": 475,
     "status": "ok",
     "timestamp": 1548975279825,
     "user": {
      "displayName": "Edward Lim",
      "photoUrl": "",
      "userId": "05219823243799720278"
     },
     "user_tz": 0
    },
    "id": "ucV8S_hdytBn",
    "outputId": "6867deba-baff-4150-daf4-752d9d6a757e",
    "scrolled": true
   },
   "outputs": [
    {
     "name": "stdout",
     "output_type": "stream",
     "text": [
      "the list v is :\n",
      "[5, 3, 8, 1]\n",
      "the list v after sorting is: \n",
      "[1, 3, 5, 8]\n",
      "printing the reversed sorted list v:\n",
      "[8, 5, 3, 1]\n"
     ]
    }
   ],
   "source": [
    "v = [5, 3, 8, 1]\n",
    "print(\"the list v is :\")\n",
    "print(v)\n",
    "print(\"the list v after sorting is: \")\n",
    "v.sort()\n",
    "print(v)\n",
    "\n",
    "# Try to print out the result of the function reverse() without converting to list. What type is it?\n",
    "print(\"printing the reversed sorted list v:\")\n",
    "print(list(reversed(v)))   \n"
   ]
  },
  {
   "cell_type": "markdown",
   "metadata": {
    "colab_type": "text",
    "id": "osv5N2hCNUNN"
   },
   "source": [
    "Another powerful function in python is the set() function for lists which returns all the unique elements in a list:"
   ]
  },
  {
   "cell_type": "code",
   "execution_count": 0,
   "metadata": {
    "colab": {
     "base_uri": "https://localhost:8080/",
     "height": 50
    },
    "colab_type": "code",
    "executionInfo": {
     "elapsed": 487,
     "status": "ok",
     "timestamp": 1548976865850,
     "user": {
      "displayName": "Edward Lim",
      "photoUrl": "",
      "userId": "05219823243799720278"
     },
     "user_tz": 0
    },
    "id": "klLThBQqNaCt",
    "outputId": "ece73dcc-3a5e-471f-83c6-593ff95318bc"
   },
   "outputs": [
    {
     "name": "stdout",
     "output_type": "stream",
     "text": [
      "{1, 2, 3, 4}\n",
      "{' ', 'l', 'e', 'W', 'r', 'o', 'H', 'd', '!'}\n"
     ]
    }
   ],
   "source": [
    "sample_list = [1,1,1,1,2,2,2,2,3,3,3,3,3,4,4,4,4,4]\n",
    "\n",
    "print(set(sample_list))\n",
    "\n",
    "# Also works for strings as python treats strings as a list of characters!\n",
    "sample_string = \"Hello World!\"\n",
    "print(set(sample_string))\n",
    "\n",
    "# Note that the outputs of set are not sorted and it also included the empty space ' ' as a unique character"
   ]
  },
  {
   "cell_type": "markdown",
   "metadata": {
    "colab_type": "text",
    "id": "IdRf-zTOytBp"
   },
   "source": [
    "The elements in a list do not need to be all of the same type."
   ]
  },
  {
   "cell_type": "code",
   "execution_count": 0,
   "metadata": {
    "colab": {},
    "colab_type": "code",
    "id": "VB5FOZsPytBp"
   },
   "outputs": [],
   "source": [
    "good_list = ['Data Science', 485, True, 0.001]\n",
    "print(good_list)"
   ]
  },
  {
   "cell_type": "markdown",
   "metadata": {
    "colab_type": "text",
    "id": "3rF0S3N8ytBr"
   },
   "source": [
    "Lists can also contain more lists, exciting! Let's append a list at the end of a list:"
   ]
  },
  {
   "cell_type": "code",
   "execution_count": 0,
   "metadata": {
    "colab": {},
    "colab_type": "code",
    "id": "DSs_j8lCytBs"
   },
   "outputs": [],
   "source": [
    "good_list.append(['another', 'list'])\n",
    "print(good_list)\n",
    "print(good_list[-1][0]) # picks the first element of the last element of good_list"
   ]
  },
  {
   "cell_type": "markdown",
   "metadata": {
    "colab_type": "text",
    "id": "i1RZU2O4ytBt"
   },
   "source": [
    "How many elements does the list `[[0,1,2,3,4,5,6]]` have? Use the `len()` function to see if you were right."
   ]
  },
  {
   "cell_type": "code",
   "execution_count": 0,
   "metadata": {
    "colab": {},
    "colab_type": "code",
    "id": "N5g5CLGhytBv"
   },
   "outputs": [],
   "source": [
    "# CODE HERE"
   ]
  },
  {
   "cell_type": "markdown",
   "metadata": {
    "colab_type": "text",
    "id": "mCRtYeahytBx"
   },
   "source": [
    "`range()` is a particularly useful iterator that can be converted into a list:"
   ]
  },
  {
   "cell_type": "code",
   "execution_count": 0,
   "metadata": {
    "colab": {},
    "colab_type": "code",
    "id": "ZHLB9hsOytBy"
   },
   "outputs": [],
   "source": [
    "r = range(10)\n",
    "print(r)"
   ]
  },
  {
   "cell_type": "markdown",
   "metadata": {
    "colab_type": "text",
    "id": "6Ru7tQ0kytB0"
   },
   "source": [
    "In the future you will see that the result of the `range()` function behaves just like a list would when combined with certain functions or in loops. If you want the result to really be a list, make sure to convert it!"
   ]
  },
  {
   "cell_type": "code",
   "execution_count": 0,
   "metadata": {
    "colab": {},
    "colab_type": "code",
    "id": "KjfgDKfCytB2"
   },
   "outputs": [],
   "source": [
    "r = list(r)    \n",
    "print(r)\n",
    "print(len(r), sum(r))"
   ]
  },
  {
   "cell_type": "markdown",
   "metadata": {
    "colab_type": "text",
    "id": "xpQtn2_oytB3"
   },
   "source": [
    "The `range()` function can have a specified start, end and step size. The syntax is: range(first element, last element, step size)\n",
    "\n",
    "If step size is not specified, the default value is one."
   ]
  },
  {
   "cell_type": "code",
   "execution_count": 0,
   "metadata": {
    "colab": {},
    "colab_type": "code",
    "id": "UF7VlbhNytB5"
   },
   "outputs": [],
   "source": [
    "print(list(range(1,10,2)))\n",
    "print(list(range(1,10)))\n",
    "print(list(range(10,1,-1)))"
   ]
  },
  {
   "cell_type": "markdown",
   "metadata": {
    "colab_type": "text",
    "id": "ZpkvJKyAytB9"
   },
   "source": [
    "### Exercise: \n",
    "Create a list of all the multiples of three between 1000 and 2500:"
   ]
  },
  {
   "cell_type": "code",
   "execution_count": 0,
   "metadata": {
    "colab": {},
    "colab_type": "code",
    "id": "wYQsHh7LytB-"
   },
   "outputs": [],
   "source": [
    "# CODE HERE"
   ]
  },
  {
   "cell_type": "markdown",
   "metadata": {
    "colab_type": "text",
    "collapsed": true,
    "id": "QEtzHGOfytCA"
   },
   "source": [
    "## Accessing elements"
   ]
  },
  {
   "cell_type": "markdown",
   "metadata": {
    "colab_type": "text",
    "id": "nkOPjlwDytCB"
   },
   "source": [
    "You have already seen how to access a single element in a list:"
   ]
  },
  {
   "cell_type": "code",
   "execution_count": 0,
   "metadata": {
    "colab": {},
    "colab_type": "code",
    "id": "HKmAi3HgytCB"
   },
   "outputs": [],
   "source": [
    "a = [3, 1, 4, 1, 5, 9, 2, 6, 5, 3, 5, 9]\n",
    "print(a[0])\n",
    "print(a[1])\n",
    "print(a[-1])"
   ]
  },
  {
   "cell_type": "markdown",
   "metadata": {
    "colab_type": "text",
    "id": "X4g7XvT4ytCG"
   },
   "source": [
    "In python, you can also access \"sublists\" of lists, the syntax is: list[ start : end : step ]"
   ]
  },
  {
   "cell_type": "code",
   "execution_count": 0,
   "metadata": {
    "colab": {},
    "colab_type": "code",
    "id": "BzDu75JbytCG"
   },
   "outputs": [],
   "source": [
    "#print(a[0],a[1],a[2])\n",
    "print(a[0:2])   # first two elements\n",
    "print(a[:2])    # from the start to element two\n",
    "print(a[7:])    # from element seven to the end\n",
    "print(a[-2:])   \n",
    "print(a[::2])   # every second element from the start to the end"
   ]
  },
  {
   "cell_type": "markdown",
   "metadata": {
    "colab_type": "text",
    "id": "bk5wvWPxytCI"
   },
   "source": [
    "Create a list containing 11 elements, print out the following sublists:\n",
    "    - All elements between the 2nd and 5th element\n",
    "    - Every second element of the list\n",
    "    - Print out the whole list backwards\n",
    "    - Exchange the order of the 4th and 5th element and the 8th and 9th element."
   ]
  },
  {
   "cell_type": "code",
   "execution_count": 0,
   "metadata": {
    "colab": {},
    "colab_type": "code",
    "id": "Tf_6cDBrytCJ"
   },
   "outputs": [],
   "source": [
    "# CODE HERE"
   ]
  },
  {
   "cell_type": "markdown",
   "metadata": {
    "colab_type": "text",
    "id": "5J3FjoDiytCK"
   },
   "source": [
    "## Logic"
   ]
  },
  {
   "cell_type": "markdown",
   "metadata": {
    "colab_type": "text",
    "id": "VczvzFbMytCL"
   },
   "source": [
    "In Python it is often necessary to write down conditions which result in a boolean value (either `False` or `True`). It is important to learn how to evaluate such conditions using basic logic. Let's look at some logic operations first:"
   ]
  },
  {
   "cell_type": "code",
   "execution_count": 0,
   "metadata": {
    "colab": {},
    "colab_type": "code",
    "id": "oHfPNnCiytCM"
   },
   "outputs": [],
   "source": [
    "#or operator\n",
    "print(True or False)\n",
    "print(False or False)\n",
    "print(True or True)\n",
    "\n",
    "#and operator\n",
    "print(False and False)\n",
    "print(True and True)\n",
    "print(True and False)\n",
    "\n",
    "#not operator\n",
    "print(not False)\n",
    "print(not True)"
   ]
  },
  {
   "cell_type": "markdown",
   "metadata": {
    "colab_type": "text",
    "id": "aPqthjLzytCN"
   },
   "source": [
    "This can be summarised into this table\n",
    "![alt text](https://upload.wikimedia.org/wikipedia/commons/4/4a/Truth_table_for_AND%2C_OR%2C_and_NOT.png)"
   ]
  },
  {
   "cell_type": "markdown",
   "metadata": {
    "colab_type": "text",
    "id": "wi1Y6_IEytCO"
   },
   "source": [
    "These logical operations can be incorporated in terms of mathematical operations, let's define a few variables:"
   ]
  },
  {
   "cell_type": "code",
   "execution_count": 0,
   "metadata": {
    "colab": {},
    "colab_type": "code",
    "id": "GA3UmCy3ytCP"
   },
   "outputs": [],
   "source": [
    "a = 5 # an integer\n",
    "b = 6 # another integer\n",
    "c = [0,1,2,3,4,5] # a list"
   ]
  },
  {
   "cell_type": "markdown",
   "metadata": {
    "colab_type": "text",
    "id": "LYLE8QNPytCQ"
   },
   "source": [
    "Now we can test a few logic operations on these variables, look at the cell below and try to guess the output! Write your guesses down before running the cell!"
   ]
  },
  {
   "cell_type": "code",
   "execution_count": 0,
   "metadata": {
    "colab": {},
    "colab_type": "code",
    "id": "l4CWfIjuytCR"
   },
   "outputs": [],
   "source": [
    "print(a == b) # a equal to b\n",
    "print(a+a == b) # 2a equal to b\n",
    "print(a != b) # a not equal to b\n",
    "print(a > b) # a greater than b\n",
    "print(a < b) # a lesser than b\n",
    "print(a <= b) # a lesser or equal to b"
   ]
  },
  {
   "cell_type": "markdown",
   "metadata": {
    "colab_type": "text",
    "id": "KWWdKfYVytCS"
   },
   "source": [
    "There are a few more intuitive operations that will come handy later on:"
   ]
  },
  {
   "cell_type": "code",
   "execution_count": 0,
   "metadata": {
    "colab": {},
    "colab_type": "code",
    "id": "BBIW3nYpytCT"
   },
   "outputs": [],
   "source": [
    "print(a in c) #if a is in c?\n",
    "print(b in c) #if b is in c?\n",
    "print(a not in c) #if a is not in c?\n",
    "print(b not in c) #if b is not in c?\n",
    "print(a and b in c) #if both a and b is in c?\n",
    "print(a or b in c) #if either a or b is in c?\n",
    "\n",
    "print(2 is '2') #if integer 2 is string 2?\n",
    "print(\"2\" is '2') #double quote and single quotes are equivalent?\n",
    "print(2 is not '2') #if integer 2 is not string 2?"
   ]
  },
  {
   "cell_type": "markdown",
   "metadata": {
    "colab_type": "text",
    "id": "6q5R49RFytCW"
   },
   "source": [
    "Make sure you understand each of the above results, if you don't, ask one of the demonstrators."
   ]
  },
  {
   "cell_type": "markdown",
   "metadata": {
    "colab_type": "text",
    "collapsed": true,
    "id": "tWs3jw4tytCX"
   },
   "source": [
    "# <a class=\"anchor\" name=\"conditional\"></a> Conditional statements\n",
    "Conditional statements are useful when we want to run some parts of the code only if some conditions are fulfilled. The syntax is:\n",
    "\n",
    "`if [Condition]:\n",
    "    [Code]`\n",
    "    \n",
    "If the `[Condition]` in the if statement has the value True, the `[Code]` will be executed, otherwise it will not."
   ]
  },
  {
   "cell_type": "code",
   "execution_count": 0,
   "metadata": {
    "colab": {},
    "colab_type": "code",
    "id": "oIAOLb61ytCY"
   },
   "outputs": [],
   "source": [
    "# Lets start with a few simple conditional statements\n",
    "if True:\n",
    "    print(\"The condition after \\\"if\\\" is true!\")"
   ]
  },
  {
   "cell_type": "code",
   "execution_count": 0,
   "metadata": {
    "colab": {},
    "colab_type": "code",
    "id": "G5eyzpX_ytCZ"
   },
   "outputs": [],
   "source": [
    "if False:\n",
    "    print(\"The condition after \\\"if\\\" is false :( !\")"
   ]
  },
  {
   "cell_type": "code",
   "execution_count": 0,
   "metadata": {
    "colab": {},
    "colab_type": "code",
    "id": "r9pFl2QCytCg",
    "scrolled": true
   },
   "outputs": [],
   "source": [
    "# It is possible to include a number of conditions! If neither is true, then the code in else will run.\n",
    "a = 5\n",
    "if a == 2:\n",
    "    print(\"a is equal to two!\")\n",
    "elif a == 3 or a == 4:\n",
    "    print(\"a is equal to three or four?\")\n",
    "else:\n",
    "    print(\"a is not two, three or four!\")"
   ]
  },
  {
   "cell_type": "markdown",
   "metadata": {
    "colab_type": "text",
    "id": "4JPpCsPUytCj"
   },
   "source": [
    "**IMPORTANT** Indentation is essential for Python.\n",
    "\n",
    "Run the following block of code. How is it different?"
   ]
  },
  {
   "cell_type": "code",
   "execution_count": 0,
   "metadata": {
    "colab": {},
    "colab_type": "code",
    "id": "G60hGMSrytCj"
   },
   "outputs": [],
   "source": [
    "a = 5\n",
    "if a == 2:\n",
    "print(\"a is equal to two!\")\n",
    "elif a == 3 or a == 4:\n",
    "print(\"a is equal to three or four?\")\n",
    "else:\n",
    "print(\"a is not two, three or four!\")"
   ]
  },
  {
   "cell_type": "markdown",
   "metadata": {
    "colab_type": "text",
    "id": "fBirJrJIytCl"
   },
   "source": [
    "As you can see, indentations have to be placed after every ' : '"
   ]
  },
  {
   "cell_type": "markdown",
   "metadata": {
    "colab_type": "text",
    "id": "JXvtFCHSytCm"
   },
   "source": [
    "Write a code that takes a list with n elements on its input, and returns the string `\"Too long\"` if the n > 10, `\"Too short\"` if n < 10, and `\"Ideal\"` if n = 10."
   ]
  },
  {
   "cell_type": "code",
   "execution_count": 0,
   "metadata": {
    "colab": {},
    "colab_type": "code",
    "id": "VNn7ALlnytCn"
   },
   "outputs": [],
   "source": [
    "#Code Here"
   ]
  },
  {
   "cell_type": "markdown",
   "metadata": {
    "colab_type": "text",
    "id": "P59pCAkFytCp"
   },
   "source": [
    "# <a class=\"anchor\" name=\"for\"></a>For loop"
   ]
  },
  {
   "cell_type": "markdown",
   "metadata": {
    "colab_type": "text",
    "id": "OohG3uF2ytCr"
   },
   "source": [
    "Loops are one of the most important structures you will learn today, they allow cerain parts of the code to be executed multiple times. In Python the `for` loop is used extensively. The syntax is: `for <variable> in <list of elements>:`"
   ]
  },
  {
   "cell_type": "code",
   "execution_count": 0,
   "metadata": {
    "colab": {},
    "colab_type": "code",
    "id": "rts1VHI_ytCs"
   },
   "outputs": [],
   "source": [
    "# one by one each element of the list is assigned to the variable i, then the code inside the for loop is executed\n",
    "#([0,1,2,3,4,5,6...,9])\n",
    "for i in range(10):\n",
    "    print(i)"
   ]
  },
  {
   "cell_type": "code",
   "execution_count": 0,
   "metadata": {
    "colab": {},
    "colab_type": "code",
    "id": "LlooAVMUytCu"
   },
   "outputs": [],
   "source": [
    "# The loop iterates over the list, sequentially assigning values to the variable i. The code within the loop prints the value.\n",
    "for i in [4, 1, 5, 22, 5]:\n",
    "    print(i)"
   ]
  },
  {
   "cell_type": "code",
   "execution_count": 0,
   "metadata": {
    "colab": {},
    "colab_type": "code",
    "id": "Gu979QKnytCw"
   },
   "outputs": [],
   "source": [
    "# The loop iterates over the list, sequentially assigning values to the variable i. The code within the loop prints the value.\n",
    "for y in [4, 1, 5, 22, 5]:\n",
    "    print (y, y+10)"
   ]
  },
  {
   "cell_type": "code",
   "execution_count": 0,
   "metadata": {
    "colab": {},
    "colab_type": "code",
    "id": "mI4vD_beytCy"
   },
   "outputs": [],
   "source": [
    "for i in \"abc\":   #it is also possible to iterate over strings\n",
    "    print(i)\n",
    "    \n",
    "#This is because python treats a string as an array of characters ie. ['a','b','c']"
   ]
  },
  {
   "cell_type": "code",
   "execution_count": 0,
   "metadata": {
    "colab": {},
    "colab_type": "code",
    "id": "9aGP8V3mytC1"
   },
   "outputs": [],
   "source": [
    "# sometimes it is useful to have two nested for loops, keep in mind the more nested loops the slower the code!\n",
    "for i in [1,2,3]:\n",
    "    for j in range(2,22,5):\n",
    "        print(i, j)"
   ]
  },
  {
   "cell_type": "markdown",
   "metadata": {
    "colab_type": "text",
    "id": "U4qqILlSHQa4"
   },
   "source": [
    "Enumerate is also a handy function that is used in conjunction with for loops. Enumerates indexes all the items in a list, as shown below"
   ]
  },
  {
   "cell_type": "code",
   "execution_count": 0,
   "metadata": {
    "colab": {},
    "colab_type": "code",
    "id": "vbv4Gx_OHcls"
   },
   "outputs": [],
   "source": [
    "#Prints out all the items in the list with their corresponding index\n",
    "animals = ['cat', 'dog','mouse']\n",
    "for item in enumerate(animals):\n",
    "  print(item)\n",
    "  \n",
    "# It is also possible to extract the indexes and elements in the lsit individually\n",
    "for index, animal in enumerate(animals):\n",
    "  print(index)\n",
    "  print(animal)\n",
    "  \n",
    "print((enumerate(animals))) # What type is this? Does it look familiar?"
   ]
  },
  {
   "cell_type": "markdown",
   "metadata": {
    "colab_type": "text",
    "id": "YF2NvwOtIlHx"
   },
   "source": [
    "The enumerate object and reversed object you've seen before are special data structures that allow you to iterate through them ie. using a for loop. \n",
    "\n",
    "You don't need to know too much about these now but keep in mind you can loop through more than just lists!"
   ]
  },
  {
   "cell_type": "markdown",
   "metadata": {
    "colab_type": "text",
    "id": "iow7wtPqytC3"
   },
   "source": [
    "Calculate the hundredth element of the Fibonacci sequence. $F_0=0$, $F_1 = 1$, $F_{i+2} = F_{i+1} + F_{i}$."
   ]
  },
  {
   "cell_type": "code",
   "execution_count": 0,
   "metadata": {
    "colab": {},
    "colab_type": "code",
    "id": "rVMEPYaLytC3"
   },
   "outputs": [],
   "source": [
    "# CODE HERE\n",
    "F_i = 0\n",
    "F_i1 = 1\n",
    "F_i2 = ????\n",
    "for i in range(0,98):\n",
    "    F_i2 = ????\n",
    "    F_i1 = ????\n",
    "    F_i = ????\n"
   ]
  },
  {
   "cell_type": "markdown",
   "metadata": {
    "colab_type": "text",
    "id": "a6AyL9JvytC5"
   },
   "source": [
    "## List comprehension"
   ]
  },
  {
   "cell_type": "markdown",
   "metadata": {
    "colab_type": "text",
    "collapsed": true,
    "id": "r_C5IOUfytC5"
   },
   "source": [
    "If you encounter an expression such as this:\n",
    "\n",
    "`for item in list:\n",
    "    if conditional:\n",
    "        expression`\n",
    "        \n",
    "It can be briefly written in python as:\n",
    "\n",
    "`[ expression for item in list if conditional ]`"
   ]
  },
  {
   "cell_type": "code",
   "execution_count": 0,
   "metadata": {
    "colab": {},
    "colab_type": "code",
    "id": "Bi3tNWLuytC6"
   },
   "outputs": [],
   "source": [
    "# You can either use loops:\n",
    "squares = []\n",
    "\n",
    "for x in range(10):\n",
    "    squares.append(x**2)\n",
    " \n",
    "print(squares)"
   ]
  },
  {
   "cell_type": "code",
   "execution_count": 0,
   "metadata": {
    "colab": {},
    "colab_type": "code",
    "id": "fuv34SAmytC7"
   },
   "outputs": [],
   "source": [
    "# Or you can use list comprehensions to get the same result:\n",
    "squares = [x**2 for x in range(10)]\n",
    "\n",
    "print(squares)"
   ]
  },
  {
   "cell_type": "markdown",
   "metadata": {
    "colab_type": "text",
    "id": "gE4_wCXsytC9"
   },
   "source": [
    "Code a comprehension list that iterates over first 100 whole numbers and picks out the even ones:"
   ]
  },
  {
   "cell_type": "code",
   "execution_count": 0,
   "metadata": {
    "colab": {},
    "colab_type": "code",
    "id": "XST8D-5RytC-"
   },
   "outputs": [],
   "source": [
    "# CODE HERE\n",
    "[x for x in range(100) if x%2==0]"
   ]
  },
  {
   "cell_type": "markdown",
   "metadata": {
    "colab_type": "text",
    "id": "Ad156CjXytC_"
   },
   "source": [
    "Create a comprehension list that replaces every number <50 with True and >50 with False:"
   ]
  },
  {
   "cell_type": "code",
   "execution_count": 0,
   "metadata": {
    "colab": {},
    "colab_type": "code",
    "id": "ARX5CJNgytC_"
   },
   "outputs": [],
   "source": [
    "# CODE HERE"
   ]
  },
  {
   "cell_type": "markdown",
   "metadata": {
    "colab_type": "text",
    "id": "D7VdZ0i84fHc"
   },
   "source": [
    "# <a class=\"anchor\" name=\"dict\"></a>Dictionaries"
   ]
  },
  {
   "cell_type": "markdown",
   "metadata": {
    "colab_type": "text",
    "id": "_fEW6k8N9aFK"
   },
   "source": [
    "Dictionaries are special data structures that stores data in key:value pairs. This is useful when you want to assign a value to a unique key or identifier. All keys must be unique for a dictionary.  Dictionaries can be created using {} as shown below."
   ]
  },
  {
   "cell_type": "code",
   "execution_count": 0,
   "metadata": {
    "colab": {},
    "colab_type": "code",
    "id": "NmDlO_Nu91Ca"
   },
   "outputs": [],
   "source": [
    "# In the following example, the dictionary has 2 items separated by a ','.\n",
    "dict1 = {\"key1\" : 1,\n",
    "         \"key2\" : 1}\n",
    "\n",
    "# The syntax is key:value\n",
    "\n",
    "dict2 = {\"key1\" : 1,\n",
    "         2 : \"key2\"}\n",
    "\n",
    "# Note that dictionary key:value pairs can have different data types. In the case above the first key is a string and the second is an integer"
   ]
  },
  {
   "cell_type": "markdown",
   "metadata": {
    "colab_type": "text",
    "id": "IYIpfj1n_o-y"
   },
   "source": [
    "The advantage of dictionaries is that it's computationally less expensive to retrieve the values of items from a dictionary using it's key"
   ]
  },
  {
   "cell_type": "code",
   "execution_count": 0,
   "metadata": {
    "colab": {
     "base_uri": "https://localhost:8080/",
     "height": 84
    },
    "colab_type": "code",
    "executionInfo": {
     "elapsed": 620,
     "status": "ok",
     "timestamp": 1548806513132,
     "user": {
      "displayName": "Edward Lim",
      "photoUrl": "",
      "userId": "05219823243799720278"
     },
     "user_tz": 0
    },
    "id": "M8StHSHa_44H",
    "outputId": "261873b8-161f-4aab-b6d2-ba722f6cebdd"
   },
   "outputs": [
    {
     "name": "stdout",
     "output_type": "stream",
     "text": [
      "1\n",
      "1\n",
      "None\n",
      "1\n"
     ]
    }
   ],
   "source": [
    "print(dict1[\"key1\"]) # Gets the value corresponding to key1\n",
    "\n",
    "print(dict1.get(\"key1\")) # Alternatively, you can use the get() function\n",
    "\n",
    "print(dict1.get(\"key3\")) # Returns none if the key doesn't exist instead of an error if using dict1[\"key3\"]\n",
    "\n",
    "dict1[\"key3\"] = dict1.get(\"key3\",1) # Providing a second arguments allows the function to return this value if the key was not found. Useful for adding to dictionaries!\n",
    "\n",
    "print(dict1[\"key3\"]) # Key3 had been added to the dictionary with value 1"
   ]
  },
  {
   "cell_type": "markdown",
   "metadata": {
    "colab_type": "text",
    "id": "Iksiq888_Yv6"
   },
   "source": [
    "Dictinoaries are handy for getting the value of a key, but difficult to retrieve key for a given value.\n",
    "\n",
    "You can also iterate through dictionaries using for loops"
   ]
  },
  {
   "cell_type": "code",
   "execution_count": 0,
   "metadata": {
    "colab": {},
    "colab_type": "code",
    "id": "S6xyR2EbGgzH"
   },
   "outputs": [],
   "source": [
    "# Print our all the keys in a dictionary\n",
    "for key in dict1.keys():\n",
    "  print(\"Key is: \" + str(key))\n",
    "  \n",
    "# Print our all the values in a dictionary\n",
    "for value in dict1.values():\n",
    "  print(\"Value is: \" + str(value))\n",
    "\n",
    "# Get the kay and value pairs in a dictionary\n",
    "for key, value in dict1.items():\n",
    "  print(\"Key is: \" + str(key), \"Value is: \" + str(value))"
   ]
  },
  {
   "cell_type": "markdown",
   "metadata": {
    "colab_type": "text",
    "id": "ywM1zkXIKkGn"
   },
   "source": [
    "It's also possible to delete items from a dict"
   ]
  },
  {
   "cell_type": "code",
   "execution_count": 0,
   "metadata": {
    "colab": {},
    "colab_type": "code",
    "id": "_KyMGIDnKnjp"
   },
   "outputs": [],
   "source": [
    "del(dict1[\"key3\"]) # deletes item corresponding to key3 from the dictionary\n",
    "print(dict1)"
   ]
  },
  {
   "cell_type": "markdown",
   "metadata": {
    "colab_type": "text",
    "id": "SKbg74toNOGR"
   },
   "source": [
    "Some of the useful functions for lists also apply to dictionaries"
   ]
  },
  {
   "cell_type": "code",
   "execution_count": 0,
   "metadata": {
    "colab": {},
    "colab_type": "code",
    "id": "ciLNb21aNUcm"
   },
   "outputs": [],
   "source": [
    "print(len(dict1))\n",
    "\n",
    "dict3 = {\"key2\" : 1,\n",
    "         \"key1\" : 1}\n",
    "\n",
    "for key in sorted(dict3):\n",
    "  print(key)"
   ]
  },
  {
   "cell_type": "markdown",
   "metadata": {
    "colab_type": "text",
    "id": "kzCY0tOaKZLu"
   },
   "source": [
    "Why use dictionaries at all? They come in handy for automating certain tasks faster. Let's say you want to count the number of times each character appears in a string. Would you be able to do it without using a dictionary?"
   ]
  },
  {
   "cell_type": "code",
   "execution_count": 0,
   "metadata": {
    "colab": {},
    "colab_type": "code",
    "id": "VSEvFDg3Ku0O"
   },
   "outputs": [],
   "source": [
    "example = \"test string\"\n",
    "char_dict = {} #initialise empty dictionary\n",
    "\n",
    "# Remove empty space in string and iterate through\n",
    "for char in example.replace(\" \",\"\"):\n",
    "  char_dict[char] = char_dict.get(char, 0) + 1\n",
    "  \n",
    "for key, value in char_dict.items():\n",
    "  print(\"Character: \" + str(key), \"Frequency: \" + str(value))"
   ]
  },
  {
   "cell_type": "markdown",
   "metadata": {
    "colab_type": "text",
    "id": "-9-6UPo7HtTW"
   },
   "source": [
    "Given an array of phones, can you count the number of times each phone model appears in the array these into phone_dict, using the phone model as the key and the frequency of the model in the array as the value?"
   ]
  },
  {
   "cell_type": "code",
   "execution_count": 0,
   "metadata": {
    "colab": {},
    "colab_type": "code",
    "id": "jYA1ASUfH7ed"
   },
   "outputs": [],
   "source": [
    "arr = ['iphone 5', 'iphone 8', 'samsung', 'iphone X', 'iphone X', 'samsung', 'iphone 8', 'iphone 5', 'iphone5', 'iphone 5', 'iphoneX']\n",
    "\n",
    "phone_dict = {}\n",
    "\n",
    "# CODE HERE\n",
    "  "
   ]
  },
  {
   "cell_type": "markdown",
   "metadata": {
    "colab_type": "text",
    "id": "HdLlGnK8ytDC"
   },
   "source": [
    "# <a class=\"anchor\" name=\"while\"></a>While Loops"
   ]
  },
  {
   "cell_type": "markdown",
   "metadata": {
    "colab_type": "text",
    "id": "8kqOY8ivytDD"
   },
   "source": [
    "While loop is a classic loop with a set condition, while the condition is true, the cycle will repeat."
   ]
  },
  {
   "cell_type": "code",
   "execution_count": 0,
   "metadata": {
    "colab": {},
    "colab_type": "code",
    "id": "ENjXbfybytDD",
    "scrolled": false
   },
   "outputs": [],
   "source": [
    "i = 0\n",
    "while i < 10:\n",
    "    print(i)\n",
    "    i += 1 # increment i by 1\n",
    "   "
   ]
  },
  {
   "cell_type": "markdown",
   "metadata": {
    "colab_type": "text",
    "id": "ifhimblGytDF"
   },
   "source": [
    "If the while condition is always true, the cycle will never stop."
   ]
  },
  {
   "cell_type": "code",
   "execution_count": 0,
   "metadata": {
    "colab": {},
    "colab_type": "code",
    "id": "InHoXsYqytDF"
   },
   "outputs": [],
   "source": [
    "i = 0.000001\n",
    "while i != 10:\n",
    "    i += 1\n",
    "    print(i)"
   ]
  },
  {
   "cell_type": "markdown",
   "metadata": {
    "colab_type": "text",
    "id": "__cKeV4rZ0OT"
   },
   "source": [
    "While loops are commonly used with logic operators to extend their uses"
   ]
  },
  {
   "cell_type": "code",
   "execution_count": 0,
   "metadata": {
    "colab": {},
    "colab_type": "code",
    "id": "zHsXuZXRZ3bT"
   },
   "outputs": [],
   "source": [
    "i = 9\n",
    "while i < 10 and i > 0:\n",
    "  print(i)\n",
    "  i -= 1 # decrement i by 1"
   ]
  },
  {
   "cell_type": "markdown",
   "metadata": {
    "colab_type": "text",
    "id": "bQv4Yt_KytDI"
   },
   "source": [
    "# <a class=\"anchor\" name=\"function\"></a>Functions\n",
    "\n",
    "Functions are a basic building block of a programming language. In python, functions can return multiple variables at the output. (unlike C/C++ and Fortran). The syntax is:\n",
    "\n",
    "`def [function name]( [inputs] ):\n",
    "    [code within the function]\n",
    "    return [output]`"
   ]
  },
  {
   "cell_type": "code",
   "execution_count": 0,
   "metadata": {
    "colab": {},
    "colab_type": "code",
    "id": "WZHJZIvTytDJ"
   },
   "outputs": [],
   "source": [
    "def subtract(a, b):\n",
    "    return a - b"
   ]
  },
  {
   "cell_type": "code",
   "execution_count": 0,
   "metadata": {
    "colab": {},
    "colab_type": "code",
    "id": "rwFFcH5TytDL"
   },
   "outputs": [],
   "source": [
    "print(subtract(1, 2))\n",
    "print(plus(3.2, -1))"
   ]
  },
  {
   "cell_type": "code",
   "execution_count": 0,
   "metadata": {
    "colab": {},
    "colab_type": "code",
    "id": "ct6gpy0rytDO"
   },
   "outputs": [],
   "source": [
    "# functions can have default input values\n",
    "def plus2(a, b=2):\n",
    "    return a + b\n",
    "\n",
    "print(plus2(7))\n",
    "print(plus2(7,4))"
   ]
  },
  {
   "cell_type": "markdown",
   "metadata": {
    "colab_type": "text",
    "id": "rBbfiaadytDP"
   },
   "source": [
    "Analyse the following function, what do you think it does? Use the function on a number of testcases to see if your guess is correct."
   ]
  },
  {
   "cell_type": "code",
   "execution_count": 0,
   "metadata": {
    "colab": {},
    "colab_type": "code",
    "id": "tRCm5Z7VytDQ"
   },
   "outputs": [],
   "source": [
    "def random_func(a):\n",
    "    something = 0\n",
    "    \n",
    "    for character in str(a):\n",
    "        something += int(character)\n",
    "        \n",
    "    return something"
   ]
  },
  {
   "cell_type": "code",
   "execution_count": 0,
   "metadata": {
    "colab": {},
    "colab_type": "code",
    "id": "g3wtUlXgytDR"
   },
   "outputs": [],
   "source": [
    "random_func(123)"
   ]
  },
  {
   "cell_type": "markdown",
   "metadata": {
    "colab_type": "text",
    "id": "0598FtoNytDT"
   },
   "source": [
    "Combine your knowledge of comprehension lists and functions to write a function that finds all the even numbers between n and m:\n",
    "\n",
    "Write test cases to test your function!"
   ]
  },
  {
   "cell_type": "code",
   "execution_count": 0,
   "metadata": {
    "colab": {},
    "colab_type": "code",
    "id": "YLxx7KIHytDU"
   },
   "outputs": [],
   "source": [
    "# CODE HERE\n",
    "def name_your_function(array, n, m):"
   ]
  },
  {
   "cell_type": "markdown",
   "metadata": {
    "colab_type": "text",
    "id": "M44sMFEGsOt5"
   },
   "source": [
    "## Recursive Functions"
   ]
  },
  {
   "cell_type": "markdown",
   "metadata": {
    "colab_type": "text",
    "id": "mf0-o9uG1uP5"
   },
   "source": [
    "Recursive functions are a special type of function where the function calls itself. They are useful for simplifying certain structures of code such as for loops, but come at a cost of increased computing overhead. They are also useful when the bounds of a function are not known."
   ]
  },
  {
   "cell_type": "code",
   "execution_count": 0,
   "metadata": {
    "colab": {
     "base_uri": "https://localhost:8080/",
     "height": 50
    },
    "colab_type": "code",
    "executionInfo": {
     "elapsed": 498,
     "status": "ok",
     "timestamp": 1548976998035,
     "user": {
      "displayName": "Edward Lim",
      "photoUrl": "",
      "userId": "05219823243799720278"
     },
     "user_tz": 0
    },
    "id": "zsEHnBHHsSKX",
    "outputId": "77f6e1b5-73e5-4253-9322-186097470448"
   },
   "outputs": [
    {
     "name": "stdout",
     "output_type": "stream",
     "text": [
      "120\n",
      "120\n"
     ]
    }
   ],
   "source": [
    "# Factorial function using for loops\n",
    "def factorial_for_loop(x):\n",
    "  answer = 1\n",
    "  for i in range(1,x+1):\n",
    "    answer *= i\n",
    "  return answer\n",
    "\n",
    "# Factorial function using recursion\n",
    "def factorial_recursion(x):\n",
    "  if x == 0: return 1\n",
    "  return x*factorial_recursion(x-1)\n",
    "\n",
    "print(factorial_for_loop(5))\n",
    "print(factorial_recursion(5))"
   ]
  },
  {
   "cell_type": "markdown",
   "metadata": {
    "colab_type": "text",
    "id": "j8nD0w5MNxsw"
   },
   "source": [
    "# <a class=\"anchor\" name=\"exercise\"></a>Exercises"
   ]
  },
  {
   "cell_type": "markdown",
   "metadata": {
    "colab_type": "text",
    "collapsed": true,
    "id": "BaDBNseSytDa"
   },
   "source": [
    "---\n",
    "## Exercise 1: Sum\n",
    "Code a function that sums the digits in a number.\n"
   ]
  },
  {
   "cell_type": "code",
   "execution_count": 0,
   "metadata": {
    "colab": {},
    "colab_type": "code",
    "id": "LyREGapIytDc"
   },
   "outputs": [],
   "source": [
    "# CODE HERE"
   ]
  },
  {
   "cell_type": "markdown",
   "metadata": {
    "colab_type": "text",
    "id": "_qmNdcEUytDf"
   },
   "source": [
    "---\n",
    "## Exercise 2: Sum Multiple\n",
    "Find the sum of all integer multiples of 3 or 5 smaller than 10000."
   ]
  },
  {
   "cell_type": "code",
   "execution_count": 0,
   "metadata": {
    "colab": {},
    "colab_type": "code",
    "id": "XvSLpUkxytDg"
   },
   "outputs": [],
   "source": [
    "# CODE HERE"
   ]
  },
  {
   "cell_type": "markdown",
   "metadata": {
    "colab_type": "text",
    "id": "dli48oXZytDX"
   },
   "source": [
    "***\n",
    "## Exercise 3: Palindrome\n",
    "Create a function that determines if a given string is a palindrome.\n",
    "A palindrome is defined as a string that when reversed, is identical to the original string.\n",
    "\n",
    "Example: <br>\n",
    "*anna* is a palindrome <br>\n",
    "*go dog* is a palindrome <br>\n",
    "*PYME* is not a palindrome\n",
    "\n",
    "You may assume the input is all lowercase and does not have punctuation"
   ]
  },
  {
   "cell_type": "code",
   "execution_count": 0,
   "metadata": {
    "colab": {},
    "colab_type": "code",
    "id": "WS-Mo8ALdsJG"
   },
   "outputs": [],
   "source": [
    "def palindrome(string):\n",
    "  #CODE HERE"
   ]
  },
  {
   "cell_type": "markdown",
   "metadata": {
    "colab_type": "text",
    "id": "SYv2EezlytDh"
   },
   "source": [
    "---\n",
    "## Exercise 4: Primes\n",
    "Code a function that decides whether the input is a prime number or not.\n",
    "\n",
    "Find the sum of the first 100 prime numbers."
   ]
  },
  {
   "cell_type": "code",
   "execution_count": 0,
   "metadata": {
    "colab": {},
    "colab_type": "code",
    "id": "Nld1FQ7wytDh"
   },
   "outputs": [],
   "source": [
    "# CODE HERE"
   ]
  },
  {
   "cell_type": "markdown",
   "metadata": {
    "colab_type": "text",
    "id": "2OS4CJ8eOLSP"
   },
   "source": [
    "## Exercise 5: What's on the menu?\n",
    "Create three lists: food = [schnitzel, salad, soup, noodles, bread, fish], unavailable = [salad, noodles, bread], new = [maggi, roti canai, nasi goreng]\n",
    "    \n",
    " Remove all 'unavailable' food from the list 'food', add all 'new' food to the list 'food'. Make sure each food is in the list only once.\n",
    " \n",
    " **CHALLENGE: Solve this exercise in only one line of code ;)** (apart from creating the lists)"
   ]
  },
  {
   "cell_type": "code",
   "execution_count": 0,
   "metadata": {
    "colab": {},
    "colab_type": "code",
    "id": "O4b7WrncORgP"
   },
   "outputs": [],
   "source": [
    "# CODE HERE\n"
   ]
  },
  {
   "cell_type": "markdown",
   "metadata": {
    "colab_type": "text",
    "id": "OqS03wFMX5dW"
   },
   "source": [
    "# <a class=\"anchor\" name=\"classes\"></a>Classes\n"
   ]
  },
  {
   "cell_type": "markdown",
   "metadata": {
    "colab_type": "text",
    "id": "XQwKnTHReFEe"
   },
   "source": [
    "Classes are special data structures that encapsulate other data types and functions.\n",
    "\n",
    "We can define our own classes which serve specialised tasks for our purposes"
   ]
  },
  {
   "cell_type": "code",
   "execution_count": 0,
   "metadata": {
    "colab": {},
    "colab_type": "code",
    "id": "bH5lTa5nX6wx"
   },
   "outputs": [],
   "source": [
    "# Classes are declared using the 'class' keyword\n",
    "class Dog:\n",
    "  \n",
    "  # Our dog class has two data members, one string for the name and one int for the age. These data members are associaated with the class 'Dog'\n",
    "  name = \"Toby\"\n",
    "  age = 5"
   ]
  },
  {
   "cell_type": "markdown",
   "metadata": {
    "colab_type": "text",
    "id": "kFmXsuhJeT2n"
   },
   "source": [
    "Now that we have defined the 'Dog' class, we can create an object (instance) of the class by assigning it to a variable similar to how we assign integers to variables\n",
    "\n",
    "We can now access the data members of this object with the '.' operator"
   ]
  },
  {
   "cell_type": "code",
   "execution_count": 0,
   "metadata": {
    "colab": {},
    "colab_type": "code",
    "id": "5SPDIIpacJS-"
   },
   "outputs": [],
   "source": [
    "# Instantiate a dog object and assign it to the my_dog variable\n",
    "my_dog = Dog()\n",
    "\n",
    "# Access my_dog's data members using the . operator\n",
    "print(my_dog.name)\n",
    "print(my_dog.age)"
   ]
  },
  {
   "cell_type": "markdown",
   "metadata": {
    "colab_type": "text",
    "id": "2VP0BU6UeqI4"
   },
   "source": [
    "But not all dogs are named Toby and are 5 years old. What if we want to generalise our class so we can create 'Dog' objects with different names and ages?\n",
    "\n",
    "That what initialisers are used for."
   ]
  },
  {
   "cell_type": "code",
   "execution_count": 0,
   "metadata": {
    "colab": {},
    "colab_type": "code",
    "id": "u1CtM3GDcni6"
   },
   "outputs": [],
   "source": [
    "class Dog:\n",
    "  \n",
    "  # Initialiser for dog class\n",
    "  def __init__(self, name, age):\n",
    "    # The self pointer is used here to assign the name passed to the initialiser to the name data member belonging to the object\n",
    "    self.name = name\n",
    "    self.age = age\n",
    "    \n",
    "# NOTE: Don't worry too much about the self pointer. It is not critical for this course, just know that by convention, the self keyword is passed into any member functions of a class"
   ]
  },
  {
   "cell_type": "markdown",
   "metadata": {
    "colab_type": "text",
    "id": "eZWFFlcefLys"
   },
   "source": [
    "Now let's create a new dog object using our initialiser!"
   ]
  },
  {
   "cell_type": "code",
   "execution_count": 0,
   "metadata": {
    "colab": {},
    "colab_type": "code",
    "id": "OAFhMRk3cw_2"
   },
   "outputs": [],
   "source": [
    "# Initialise a Dog object using the initialiser to assign our chosen name and age\n",
    "my_dog = Dog(\"Spots\", 3)\n",
    "\n",
    "# Access my_dog's data members using the . operator\n",
    "print(my_dog.name)\n",
    "print(my_dog.age)"
   ]
  },
  {
   "cell_type": "markdown",
   "metadata": {
    "colab_type": "text",
    "id": "l0mV6dRwfS_T"
   },
   "source": [
    "You can also define member functions within a class. Similar to the data members, these functions are tied to the class"
   ]
  },
  {
   "cell_type": "code",
   "execution_count": 0,
   "metadata": {
    "colab": {},
    "colab_type": "code",
    "id": "8nXIp-HpdpKv"
   },
   "outputs": [],
   "source": [
    "class Dog:\n",
    "\n",
    "  def __init__(self, name, age):\n",
    "    self.name = name\n",
    "    self.age = age\n",
    "  \n",
    "  # Define a member function. Member functions are tied to classes\n",
    "  def bark(self):\n",
    "    print(\"Woof woof\")"
   ]
  },
  {
   "cell_type": "markdown",
   "metadata": {
    "colab_type": "text",
    "id": "_iVb5iAufdhv"
   },
   "source": [
    "Now, we can call the bark function of my_dog! Remember, this bark() function is tied to the class, meaning you can't just call bark() directly!"
   ]
  },
  {
   "cell_type": "code",
   "execution_count": 0,
   "metadata": {
    "colab": {},
    "colab_type": "code",
    "id": "laQwn2j7dU-l"
   },
   "outputs": [],
   "source": [
    "# Initialise a Dog object using the initialiser to assign our chosen name and age\n",
    "my_dog = Dog(\"Spots\", 3)\n",
    "\n",
    "# Call the bark function associated with my_dog\n",
    "my_dog.bark()\n"
   ]
  },
  {
   "cell_type": "code",
   "execution_count": 0,
   "metadata": {
    "colab": {},
    "colab_type": "code",
    "id": "OasMEw-ufsHZ"
   },
   "outputs": [],
   "source": [
    "bark() # WILL NOT WORK"
   ]
  },
  {
   "cell_type": "markdown",
   "metadata": {
    "colab_type": "text",
    "id": "xmt6hGjhfwTI"
   },
   "source": [
    "** You do not need to know too much about classes, just keep in mind that when you are using external libraries, you are essentially using classes within the library to accomplish specific tasks (matrix operations, plotting graphs, etc) **"
   ]
  }
 ],
 "metadata": {
  "colab": {
   "collapsed_sections": [
    "K5SPq-zSys_j",
    "r_8UBDGdytAv",
    "702b-7R9ytBM",
    "QEtzHGOfytCA",
    "5J3FjoDiytCK",
    "tWs3jw4tytCX",
    "P59pCAkFytCp",
    "a6AyL9JvytC5",
    "D7VdZ0i84fHc",
    "HdLlGnK8ytDC",
    "bQv4Yt_KytDI",
    "j8nD0w5MNxsw",
    "BaDBNseSytDa",
    "_qmNdcEUytDf",
    "dli48oXZytDX",
    "SYv2EezlytDh",
    "OqS03wFMX5dW"
   ],
   "name": "lec_1.ipynb",
   "provenance": [],
   "version": "0.3.2"
  },
  "kernelspec": {
   "display_name": "Python 3",
   "language": "python",
   "name": "python3"
  },
  "language_info": {
   "codemirror_mode": {
    "name": "ipython",
    "version": 3
   },
   "file_extension": ".py",
   "mimetype": "text/x-python",
   "name": "python",
   "nbconvert_exporter": "python",
   "pygments_lexer": "ipython3",
   "version": "3.6.6"
  }
 },
 "nbformat": 4,
 "nbformat_minor": 1
}
